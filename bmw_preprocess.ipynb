{
 "cells": [
  {
   "cell_type": "code",
   "execution_count": 22,
   "metadata": {
    "collapsed": true
   },
   "outputs": [],
   "source": [
    "import numpy as np\n",
    "import pandas as pd\n",
    "import matplotlib.pyplot as plt\n",
    "import math"
   ]
  },
  {
   "cell_type": "code",
   "execution_count": 73,
   "metadata": {},
   "outputs": [
    {
     "name": "stderr",
     "output_type": "stream",
     "text": [
      "/Applications/anaconda/lib/python3.6/site-packages/IPython/core/interactiveshell.py:2717: DtypeWarning: Columns (7,19,22,33,34,37,38,39,40,41,45,46,49,50,51,52,53,54,56,57,58,59,65,67,68,71,73,74,75,76,83,84,89,93,94,95,110,121,129,159,161,163,164,170,176,183,184,187,188,189,190,191,195,196,199,200,201,202,203,204,206,207,208,209,215,217,218,221,223,224,225,226,233,234,239,240,241,246,277,279,280,289,290,291,292,293,296,301,308,309,310,311,313,314,315,326,328,329,330,333,334,338,339,340,341,352,361,373,379,380,381,382,383,386,391,398,399,400,401,403,404,405,416,418,419,420,423,424,428,429,430,431,463,472,484) have mixed types. Specify dtype option on import or set low_memory=False.\n",
      "  interactivity=interactivity, compiler=compiler, result=result)\n"
     ]
    }
   ],
   "source": [
    "pro0801=pd.read_table('Aug17/01-bmwprod_2017-08-01.tsv', header = 1, encoding = \"ISO-8859-1\")"
   ]
  },
  {
   "cell_type": "code",
   "execution_count": 74,
   "metadata": {},
   "outputs": [
    {
     "data": {
      "text/html": [
       "<div>\n",
       "<style>\n",
       "    .dataframe thead tr:only-child th {\n",
       "        text-align: right;\n",
       "    }\n",
       "\n",
       "    .dataframe thead th {\n",
       "        text-align: left;\n",
       "    }\n",
       "\n",
       "    .dataframe tbody tr th {\n",
       "        vertical-align: top;\n",
       "    }\n",
       "</style>\n",
       "<table border=\"1\" class=\"dataframe\">\n",
       "  <thead>\n",
       "    <tr style=\"text-align: right;\">\n",
       "      <th></th>\n",
       "      <th>en-us</th>\n",
       "      <th>4290953589</th>\n",
       "      <th>989</th>\n",
       "      <th>1680</th>\n",
       "      <th>24</th>\n",
       "      <th>Unnamed: 5</th>\n",
       "      <th>Unnamed: 6</th>\n",
       "      <th>Unnamed: 7</th>\n",
       "      <th>Unnamed: 8</th>\n",
       "      <th>0</th>\n",
       "      <th>...</th>\n",
       "      <th>1.10</th>\n",
       "      <th>google.com.1</th>\n",
       "      <th>3.1</th>\n",
       "      <th>https://www.google.com/.2</th>\n",
       "      <th>57.2</th>\n",
       "      <th>http://www.bmwusa.com/Standard/Content/Owner/OwnersManualVideos.aspx.2</th>\n",
       "      <th>us:standard:content:owner:ownersmanualvideos.3</th>\n",
       "      <th>1501561351.2</th>\n",
       "      <th>0.18</th>\n",
       "      <th>0.19</th>\n",
       "    </tr>\n",
       "  </thead>\n",
       "  <tbody>\n",
       "    <tr>\n",
       "      <th>0</th>\n",
       "      <td>en-us</td>\n",
       "      <td>4290953589</td>\n",
       "      <td>989</td>\n",
       "      <td>1680</td>\n",
       "      <td>24.0</td>\n",
       "      <td>NaN</td>\n",
       "      <td>NaN</td>\n",
       "      <td>NaN</td>\n",
       "      <td>NaN</td>\n",
       "      <td>0</td>\n",
       "      <td>...</td>\n",
       "      <td>2</td>\n",
       "      <td>google.com</td>\n",
       "      <td>3</td>\n",
       "      <td>https://www.google.com/</td>\n",
       "      <td>57</td>\n",
       "      <td>http://www.bmwusa.com/Standard/Content/Owner/O...</td>\n",
       "      <td>us:standard:content:owner:ownersmanualvideos</td>\n",
       "      <td>1501561351</td>\n",
       "      <td>0</td>\n",
       "      <td>0</td>\n",
       "    </tr>\n",
       "    <tr>\n",
       "      <th>1</th>\n",
       "      <td>en-us</td>\n",
       "      <td>4290953589</td>\n",
       "      <td>989</td>\n",
       "      <td>1680</td>\n",
       "      <td>24.0</td>\n",
       "      <td>NaN</td>\n",
       "      <td>NaN</td>\n",
       "      <td>NaN</td>\n",
       "      <td>http://www.bmwusa.com/Standard/Content/Owner/G...</td>\n",
       "      <td>0</td>\n",
       "      <td>...</td>\n",
       "      <td>3</td>\n",
       "      <td>google.com</td>\n",
       "      <td>3</td>\n",
       "      <td>https://www.google.com/</td>\n",
       "      <td>57</td>\n",
       "      <td>http://www.bmwusa.com/Standard/Content/Owner/O...</td>\n",
       "      <td>us:standard:content:owner:ownersmanualvideos</td>\n",
       "      <td>1501561351</td>\n",
       "      <td>0</td>\n",
       "      <td>0</td>\n",
       "    </tr>\n",
       "    <tr>\n",
       "      <th>2</th>\n",
       "      <td>en-us</td>\n",
       "      <td>3757112090</td>\n",
       "      <td>676</td>\n",
       "      <td>1084</td>\n",
       "      <td>24.0</td>\n",
       "      <td>NaN</td>\n",
       "      <td>NaN</td>\n",
       "      <td>NaN</td>\n",
       "      <td>NaN</td>\n",
       "      <td>0</td>\n",
       "      <td>...</td>\n",
       "      <td>1</td>\n",
       "      <td>NaN</td>\n",
       "      <td>1</td>\n",
       "      <td>https://www.bmwusa.com/</td>\n",
       "      <td>0</td>\n",
       "      <td>http://www.bmwusa.com:81/secured/content/forms...</td>\n",
       "      <td>us:secured:content:forms:login</td>\n",
       "      <td>1501561198</td>\n",
       "      <td>1</td>\n",
       "      <td>0</td>\n",
       "    </tr>\n",
       "    <tr>\n",
       "      <th>3</th>\n",
       "      <td>en-us</td>\n",
       "      <td>3757112090</td>\n",
       "      <td>676</td>\n",
       "      <td>1084</td>\n",
       "      <td>24.0</td>\n",
       "      <td>NaN</td>\n",
       "      <td>NaN</td>\n",
       "      <td>NaN</td>\n",
       "      <td>function(){vara=c.replace(\"on\",\"\");k.bi(b,g,a+...</td>\n",
       "      <td>2</td>\n",
       "      <td>...</td>\n",
       "      <td>2</td>\n",
       "      <td>NaN</td>\n",
       "      <td>1</td>\n",
       "      <td>https://www.bmwusa.com/</td>\n",
       "      <td>0</td>\n",
       "      <td>http://www.bmwusa.com:81/secured/content/forms...</td>\n",
       "      <td>us:secured:content:forms:login</td>\n",
       "      <td>1501561198</td>\n",
       "      <td>0</td>\n",
       "      <td>0</td>\n",
       "    </tr>\n",
       "    <tr>\n",
       "      <th>4</th>\n",
       "      <td>en-us</td>\n",
       "      <td>3757112090</td>\n",
       "      <td>676</td>\n",
       "      <td>1084</td>\n",
       "      <td>24.0</td>\n",
       "      <td>NaN</td>\n",
       "      <td>NaN</td>\n",
       "      <td>NaN</td>\n",
       "      <td>https://www.bmwusa.com/Secured/Content/Payment...</td>\n",
       "      <td>0</td>\n",
       "      <td>...</td>\n",
       "      <td>3</td>\n",
       "      <td>NaN</td>\n",
       "      <td>1</td>\n",
       "      <td>https://www.bmwusa.com/</td>\n",
       "      <td>0</td>\n",
       "      <td>http://www.bmwusa.com:81/secured/content/forms...</td>\n",
       "      <td>us:secured:content:forms:login</td>\n",
       "      <td>1501561198</td>\n",
       "      <td>0</td>\n",
       "      <td>0</td>\n",
       "    </tr>\n",
       "  </tbody>\n",
       "</table>\n",
       "<p>5 rows × 502 columns</p>\n",
       "</div>"
      ],
      "text/plain": [
       "   en-us  4290953589  989  1680    24 Unnamed: 5 Unnamed: 6 Unnamed: 7  \\\n",
       "0  en-us  4290953589  989  1680  24.0        NaN        NaN        NaN   \n",
       "1  en-us  4290953589  989  1680  24.0        NaN        NaN        NaN   \n",
       "2  en-us  3757112090  676  1084  24.0        NaN        NaN        NaN   \n",
       "3  en-us  3757112090  676  1084  24.0        NaN        NaN        NaN   \n",
       "4  en-us  3757112090  676  1084  24.0        NaN        NaN        NaN   \n",
       "\n",
       "                                          Unnamed: 8  0 ...  1.10  \\\n",
       "0                                                NaN  0 ...     2   \n",
       "1  http://www.bmwusa.com/Standard/Content/Owner/G...  0 ...     3   \n",
       "2                                                NaN  0 ...     1   \n",
       "3  function(){vara=c.replace(\"on\",\"\");k.bi(b,g,a+...  2 ...     2   \n",
       "4  https://www.bmwusa.com/Secured/Content/Payment...  0 ...     3   \n",
       "\n",
       "   google.com.1  3.1 https://www.google.com/.2 57.2  \\\n",
       "0    google.com    3   https://www.google.com/   57   \n",
       "1    google.com    3   https://www.google.com/   57   \n",
       "2           NaN    1   https://www.bmwusa.com/    0   \n",
       "3           NaN    1   https://www.bmwusa.com/    0   \n",
       "4           NaN    1   https://www.bmwusa.com/    0   \n",
       "\n",
       "   http://www.bmwusa.com/Standard/Content/Owner/OwnersManualVideos.aspx.2  \\\n",
       "0  http://www.bmwusa.com/Standard/Content/Owner/O...                        \n",
       "1  http://www.bmwusa.com/Standard/Content/Owner/O...                        \n",
       "2  http://www.bmwusa.com:81/secured/content/forms...                        \n",
       "3  http://www.bmwusa.com:81/secured/content/forms...                        \n",
       "4  http://www.bmwusa.com:81/secured/content/forms...                        \n",
       "\n",
       "   us:standard:content:owner:ownersmanualvideos.3 1501561351.2  0.18 0.19  \n",
       "0    us:standard:content:owner:ownersmanualvideos   1501561351     0    0  \n",
       "1    us:standard:content:owner:ownersmanualvideos   1501561351     0    0  \n",
       "2                  us:secured:content:forms:login   1501561198     1    0  \n",
       "3                  us:secured:content:forms:login   1501561198     0    0  \n",
       "4                  us:secured:content:forms:login   1501561198     0    0  \n",
       "\n",
       "[5 rows x 502 columns]"
      ]
     },
     "execution_count": 74,
     "metadata": {},
     "output_type": "execute_result"
    }
   ],
   "source": [
    "pro0801.head()"
   ]
  },
  {
   "cell_type": "code",
   "execution_count": 75,
   "metadata": {},
   "outputs": [],
   "source": [
    "name0801=pd.read_table('Aug17/bmwprod_2017-08-01-lookup_data/column_headers.tsv', header = 0, encoding = \"ISO-8859-1\")"
   ]
  },
  {
   "cell_type": "code",
   "execution_count": 76,
   "metadata": {},
   "outputs": [],
   "source": [
    "pro0801.columns = list(name0801.columns.values)"
   ]
  },
  {
   "cell_type": "code",
   "execution_count": 78,
   "metadata": {},
   "outputs": [
    {
     "data": {
      "text/plain": [
       "(465659, 502)"
      ]
     },
     "execution_count": 78,
     "metadata": {},
     "output_type": "execute_result"
    }
   ],
   "source": [
    "pro0801.shape"
   ]
  },
  {
   "cell_type": "code",
   "execution_count": 63,
   "metadata": {},
   "outputs": [
    {
     "name": "stderr",
     "output_type": "stream",
     "text": [
      "b'Skipping line 54781: expected 502 fields, saw 505\\n'\n",
      "/Applications/anaconda/lib/python3.6/site-packages/IPython/core/interactiveshell.py:2717: DtypeWarning: Columns (19,22,33,34,36,37,38,39,40,41,45,46,49,50,51,52,53,54,56,57,58,59,65,67,68,71,73,74,75,83,84,89,93,94,95,110,121,129,159,163,164,170,183,184,186,187,188,189,190,191,195,196,199,200,201,202,203,204,206,207,208,209,215,217,218,221,223,224,225,233,234,239,240,241,246,279,280,289,290,291,292,293,296,301,310,311,313,314,315,326,328,330,338,339,340,341,352,361,373,379,380,381,382,383,386,391,400,401,403,404,405,416,418,420,428,429,430,431,463,472,484) have mixed types. Specify dtype option on import or set low_memory=False.\n",
      "  interactivity=interactivity, compiler=compiler, result=result)\n"
     ]
    }
   ],
   "source": [
    "pro1101=pd.read_table('Nov17/01-bmwprod_2017-11-01.tsv', header = 1, error_bad_lines=False,encoding = \"ISO-8859-1\")"
   ]
  },
  {
   "cell_type": "code",
   "execution_count": 65,
   "metadata": {
    "collapsed": true
   },
   "outputs": [],
   "source": [
    "name1101=pd.read_table('Nov17/bmwprod_2017-11-01-lookup_data/column_headers.tsv', header = 0, encoding = \"ISO-8859-1\")"
   ]
  },
  {
   "cell_type": "code",
   "execution_count": 67,
   "metadata": {
    "collapsed": true
   },
   "outputs": [],
   "source": [
    "pro1101.columns = list(name1101.columns.values)"
   ]
  },
  {
   "cell_type": "code",
   "execution_count": 70,
   "metadata": {},
   "outputs": [
    {
     "data": {
      "text/plain": [
       "(470751, 502)"
      ]
     },
     "execution_count": 70,
     "metadata": {},
     "output_type": "execute_result"
    }
   ],
   "source": [
    "pro1101.shape"
   ]
  },
  {
   "cell_type": "code",
   "execution_count": null,
   "metadata": {
    "collapsed": true
   },
   "outputs": [],
   "source": []
  }
 ],
 "metadata": {
  "kernelspec": {
   "display_name": "Python 3",
   "language": "python",
   "name": "python3"
  },
  "language_info": {
   "codemirror_mode": {
    "name": "ipython",
    "version": 3
   },
   "file_extension": ".py",
   "mimetype": "text/x-python",
   "name": "python",
   "nbconvert_exporter": "python",
   "pygments_lexer": "ipython3",
   "version": "3.6.1"
  }
 },
 "nbformat": 4,
 "nbformat_minor": 2
}
